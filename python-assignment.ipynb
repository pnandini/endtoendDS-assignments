{
 "cells": [
  {
   "cell_type": "code",
   "execution_count": 2,
   "metadata": {},
   "outputs": [
    {
     "name": "stdout",
     "output_type": "stream",
     "text": [
      "328\n"
     ]
    }
   ],
   "source": [
    "str = \" I am very keen in building up my career in Data Science, but not sure from where to start. If I search the web it throws me thousands of articles, few are relevant others make me confused, again I come around to the same page. Supervised has provided me a good platform to remove all such qualms which were wrangling in my mind\"\n",
    "\n",
    "# Consider the above text as a string, figure out the average length of the string.\n",
    "print(len(str))\n"
   ]
  },
  {
   "cell_type": "code",
   "execution_count": 3,
   "metadata": {},
   "outputs": [
    {
     "name": "stdout",
     "output_type": "stream",
     "text": [
      " i am very keen in building up my career in data science, but not sure from where to start. if i search the web it throws me thousands of articles, few are relevant others make me confused, again i come around to the same page. supervised has provided me a good platform to remove all such qualms which were wrangling in my mind\n"
     ]
    }
   ],
   "source": [
    "\n",
    "# Lower the text in the string.\n",
    "print(str.lower())\n"
   ]
  },
  {
   "cell_type": "code",
   "execution_count": 4,
   "metadata": {},
   "outputs": [
    {
     "name": "stdout",
     "output_type": "stream",
     "text": [
      " I am very keen in building up my career in Data Science but not sure from where to start. If I search the web it throws me thousands of articles few are relevant others make me confused again I come around to the same page. Supervised has provided me a good platform to remove all such qualms which were wrangling in my mind\n"
     ]
    }
   ],
   "source": [
    "\n",
    "# Try to get the clean text removing the punctuation from the string.\n",
    "print(str.replace(\",\", \"\"))\n"
   ]
  },
  {
   "cell_type": "code",
   "execution_count": 6,
   "metadata": {},
   "outputs": [
    {
     "name": "stdout",
     "output_type": "stream",
     "text": [
      "Data Science\n"
     ]
    }
   ],
   "source": [
    "\n",
    "# Extract word \"Data Science\" from the string\n",
    "word = 'Data Science'\n",
    "findDataScience = str[str.find(word):str.find(word) + len(word)]\n",
    "print(findDataScience)\n"
   ]
  },
  {
   "cell_type": "code",
   "execution_count": 7,
   "metadata": {},
   "outputs": [
    {
     "name": "stdout",
     "output_type": "stream",
     "text": [
      "were => 1\n",
      "from => 1\n",
      "keen => 1\n",
      "Science, => 1\n",
      "not => 1\n",
      "relevant => 1\n",
      "Data => 1\n",
      "remove => 1\n",
      "am => 2\n",
      "Supervised => 1\n",
      "page. => 1\n",
      "start. => 1\n",
      "it => 1\n",
      "around => 1\n",
      "throws => 1\n",
      "If => 1\n",
      "few => 1\n",
      "of => 1\n",
      "search => 1\n",
      "again => 1\n",
      "where => 1\n",
      "are => 2\n",
      "good => 1\n",
      "qualms => 1\n",
      "which => 1\n",
      "make => 1\n",
      "sure => 1\n",
      "very => 1\n",
      "confused, => 1\n",
      "same => 1\n",
      "others => 1\n",
      "in => 7\n",
      "such => 1\n",
      "career => 1\n",
      "web => 1\n",
      "platform => 1\n",
      "the => 3\n",
      "wrangling => 1\n",
      "mind => 1\n",
      "but => 1\n",
      "building => 1\n",
      "thousands => 1\n",
      "up => 2\n",
      "me => 5\n",
      "articles, => 1\n",
      "all => 1\n",
      "provided => 1\n",
      "my => 2\n",
      "come => 1\n",
      "has => 1\n",
      "to => 3\n",
      "I => 4\n",
      "a => 22\n"
     ]
    }
   ],
   "source": [
    "\n",
    "# Find the frequency of words used in the string.\n",
    "\n",
    "# cleaning the str\n",
    "\n",
    "# all lower case\n",
    "str_lower = str.lower()\n",
    "\n",
    "# getting the word in list\n",
    "words = str.split()\n",
    "\n",
    "#unique words\n",
    "words = list(set(words))\n",
    "\n",
    "for word in words:\n",
    "    print(\"{} => {}\".format(word,str.count(word)))\n"
   ]
  },
  {
   "cell_type": "code",
   "execution_count": 8,
   "metadata": {},
   "outputs": [
    {
     "name": "stdout",
     "output_type": "stream",
     "text": [
      "['am', 'are', 'up', 'my']\n"
     ]
    }
   ],
   "source": [
    "\n",
    "# Fetch the duplicate pairs used in the string\n",
    "str_lower = str.lower()\n",
    "words = str.split()\n",
    "unique_words = list(set(words))\n",
    "\n",
    "duplicate_pairs = []\n",
    "for word in unique_words:\n",
    "    count = str.count(word)\n",
    "    if count == 2:\n",
    "        duplicate_pairs.append(word)\n",
    "print(duplicate_pairs)\n"
   ]
  },
  {
   "cell_type": "code",
   "execution_count": 9,
   "metadata": {},
   "outputs": [
    {
     "name": "stdout",
     "output_type": "stream",
     "text": [
      " I am very keen in building up my career in Data Science, but not sure from where to start. If I search the web it throws me thousands of articles, few are relevant others make me confused, again I come around to the same page. Unsupervised has provided me a good platform to remove all such qualms which were wrangling in my mind\n"
     ]
    }
   ],
   "source": [
    "\n",
    "\n",
    "# Can you change the word \"Supervised\" to \"Unsupervised\" in the string\n",
    "str_replaced = str.replace(\"Supervised\", \"Unsupervised\")\n",
    "print(str_replaced)\n"
   ]
  },
  {
   "cell_type": "code",
   "execution_count": 11,
   "metadata": {},
   "outputs": [
    {
     "name": "stdout",
     "output_type": "stream",
     "text": [
      "[' I am very keen in building up my career in Data Science, but not sure from where to start', ' If I search the web it throws me thousands of articles, few are relevant others make me confused, again I come around to the same page', ' Supervised has provided me a good platform to remove all such qualms which were wrangling in my mind']\n"
     ]
    }
   ],
   "source": [
    "\n",
    "# Splitting of the string with a dot operator(.)\n",
    "str_split_by_dot = str.split(\".\")\n",
    "print(str_split_by_dot)\n"
   ]
  },
  {
   "cell_type": "code",
   "execution_count": 12,
   "metadata": {},
   "outputs": [
    {
     "name": "stdout",
     "output_type": "stream",
     "text": [
      "sure\n",
      "where\n",
      "the\n",
      "me\n",
      "are\n",
      "make\n",
      "me\n",
      "come\n",
      "the\n",
      "same\n",
      "me\n",
      "remove\n",
      "were\n"
     ]
    }
   ],
   "source": [
    "\n",
    "# Find the words from the string which ends with \"e\"\n",
    "str_lower = str.lower()\n",
    "words = str.split()\n",
    "unique_words = list(set(words))\n",
    "\n",
    "for word in words:\n",
    "    if(word.endswith(\"e\")):\n",
    "        print(word)\n",
    "        \n"
   ]
  },
  {
   "cell_type": "code",
   "execution_count": 14,
   "metadata": {},
   "outputs": [
    {
     "name": "stdout",
     "output_type": "stream",
     "text": [
      "22\n"
     ]
    }
   ],
   "source": [
    "# Figure out number of a's used in the string.\n",
    "print(str.count('a'))"
   ]
  },
  {
   "cell_type": "code",
   "execution_count": 15,
   "metadata": {},
   "outputs": [],
   "source": [
    "# Questions on Dictionary"
   ]
  },
  {
   "cell_type": "code",
   "execution_count": 16,
   "metadata": {},
   "outputs": [
    {
     "data": {
      "text/plain": [
       "'\\nIn the weekend , I purchased 250g of apple, 500g of sugar, \\n2.5 kg of rice, 2.5 litres of milk and finally 1 dozen of egg.\\n\\n'"
      ]
     },
     "execution_count": 16,
     "metadata": {},
     "output_type": "execute_result"
    }
   ],
   "source": [
    "'''\n",
    "In the weekend , I purchased 250g of apple, 500g of sugar, \n",
    "2.5 kg of rice, 2.5 litres of milk and finally 1 dozen of egg.\n",
    "\n",
    "'''"
   ]
  },
  {
   "cell_type": "code",
   "execution_count": 18,
   "metadata": {},
   "outputs": [
    {
     "name": "stdout",
     "output_type": "stream",
     "text": [
      "Item: apple | Quantity: 0.25\n",
      "Item: sugar | Quantity: 0.5\n",
      "Item: rice | Quantity: 1\n",
      "Item: milk | Quantity: 2.5\n",
      "Item: egg | Quantity: 1\n",
      "Item: atta packet | Quantity: 1\n",
      "{'apple': 55.0, 'sugar': 21.5, 'rice': 45, 'milk': 75.0, 'egg': 60}\n",
      "Total cost: 256.5\n"
     ]
    }
   ],
   "source": [
    "# Can you help me frame the above purchase in the form of dictionary with commodities as keys to it.\n",
    "purchases = {\n",
    "    \"apple\": 0.25,\n",
    "    \"sugar\": 0.5,\n",
    "    \"rice\":  2.5,\n",
    "    \"milk\":  2.5,\n",
    "    \"egg\":   1\n",
    "}\n",
    "\n",
    "\n",
    "#I forgot to mention another item, 1kg of atta packet. Can you also add it ?\n",
    "purchases.update({\"atta packet\": 1})\n",
    "\n",
    "# Instead of 2.5kg of rice, I bought only 1kg of rice. Can you change the corresponding value ?\n",
    "purchases.update({\"rice\": 1})\n",
    "\n",
    "# Can you list out all these items using a loop.\n",
    "for key, value in purchases.items():\n",
    "    print(\"Item: {} | Quantity: {}\".format(key, value))\n",
    "    \n",
    "\n",
    "'''\n",
    "However, the cost of 1 kg apple is Rs.220, 1 kg of sugar is Rs.43, \n",
    "1 Kg of rice is Rs. 45, 1 litre of milk is Rs.30 \n",
    "and 1 dozen of egg is Rs. 60.\n",
    "'''\n",
    "\n",
    "unit_prices = {\n",
    "    \"apple\": 220,\n",
    "    \"sugar\": 43,\n",
    "    \"rice\": 45,\n",
    "    \"milk\": 30,\n",
    "    \"egg\": 60\n",
    "}\n",
    "\n",
    "bill = {}\n",
    "tot_cost = 0\n",
    "for key, value in purchases.items():\n",
    "    if key in unit_prices:\n",
    "        amount = value * unit_prices[key]\n",
    "        tot_cost+=amount\n",
    "        bill.update({key: amount})\n",
    "   \n",
    "print(bill)\n",
    "print(\"Total cost: {}\".format(tot_cost))"
   ]
  },
  {
   "cell_type": "code",
   "execution_count": 19,
   "metadata": {},
   "outputs": [],
   "source": [
    "# Questions on List"
   ]
  },
  {
   "cell_type": "code",
   "execution_count": 20,
   "metadata": {},
   "outputs": [],
   "source": [
    "companies = [\"Amazon\", \"Facebook\", \"HiSilicon\", \"Google\", \"Apple\", \"Microsoft\", \"SenseTime\"]"
   ]
  },
  {
   "cell_type": "code",
   "execution_count": 21,
   "metadata": {},
   "outputs": [
    {
     "name": "stdout",
     "output_type": "stream",
     "text": [
      "['Amazon', 'Apple', 'Facebook', 'Google', 'HiSilicon', 'Microsoft', 'SenseTime']\n"
     ]
    }
   ],
   "source": [
    "#Sort the list in ascending order\n",
    "companies.sort()\n",
    "print(companies)"
   ]
  },
  {
   "cell_type": "code",
   "execution_count": 22,
   "metadata": {},
   "outputs": [
    {
     "name": "stdout",
     "output_type": "stream",
     "text": [
      "['Amazon', 'Apple', 'Facebook', 'Google', 'HiSilicon', 'Microsoft', 'SenseTime', 'Nvidia', 'OpenAI', 'Qualcomm', 'Reliance']\n"
     ]
    }
   ],
   "source": [
    "#Add multiple companies at once 'Nvidia', 'OpenAI' , 'Qualcomm' and 'Reliance' to the list\n",
    "companies.extend([\"Nvidia\", \"OpenAI\", \"Qualcomm\", \"Reliance\"])\n",
    "print(companies)"
   ]
  },
  {
   "cell_type": "code",
   "execution_count": 23,
   "metadata": {},
   "outputs": [
    {
     "name": "stdout",
     "output_type": "stream",
     "text": [
      "['amazon', 'apple', 'facebook', 'google', 'hisilicon', 'microsoft', 'sensetime', 'nvidia', 'openai', 'qualcomm', 'reliance']\n"
     ]
    }
   ],
   "source": [
    "# Lower the list using List comprehension\n",
    "companies = [c.lower() for c in companies]\n",
    "print(companies)"
   ]
  },
  {
   "cell_type": "code",
   "execution_count": 24,
   "metadata": {},
   "outputs": [
    {
     "name": "stdout",
     "output_type": "stream",
     "text": [
      "['amazon', 'apple', 'facebook', 'google', 'hisilicon', 'microsoft', 'sensetime', 'nvidia', 'openai', 'qualcomm']\n"
     ]
    }
   ],
   "source": [
    "# Elimiate 'Reliance' from the list\n",
    "if \"reliance\" in companies:\n",
    "    companies.remove(\"reliance\")\n",
    "print(companies)"
   ]
  },
  {
   "cell_type": "code",
   "execution_count": 25,
   "metadata": {},
   "outputs": [
    {
     "name": "stdout",
     "output_type": "stream",
     "text": [
      "['facebook', 'google', 'microsoft']\n"
     ]
    }
   ],
   "source": [
    "# Extract 'Facebook', 'Google' and 'Microsoft' using a single command\n",
    "sample_companies = [companies[i] for i in [2, 3, 5]]\n",
    "print(sample_companies)"
   ]
  },
  {
   "cell_type": "code",
   "execution_count": 26,
   "metadata": {},
   "outputs": [],
   "source": [
    "# Questions on Tuple\n"
   ]
  },
  {
   "cell_type": "code",
   "execution_count": 27,
   "metadata": {},
   "outputs": [],
   "source": [
    "prices = (220, 43, 45, 30, 60)\n"
   ]
  },
  {
   "cell_type": "code",
   "execution_count": 28,
   "metadata": {},
   "outputs": [
    {
     "name": "stdout",
     "output_type": "stream",
     "text": [
      "220\n",
      "30\n"
     ]
    }
   ],
   "source": [
    "# Find out the min and max price among them\n",
    "max_price = max(prices)\n",
    "print(max_price)\n",
    "\n",
    "min_price  = min(prices)\n",
    "print(min_price)"
   ]
  },
  {
   "cell_type": "code",
   "execution_count": 31,
   "metadata": {},
   "outputs": [
    {
     "data": {
      "text/plain": [
       "('amazon',\n",
       " 'apple',\n",
       " 'facebook',\n",
       " 'google',\n",
       " 'hisilicon',\n",
       " 'microsoft',\n",
       " 'sensetime',\n",
       " 'nvidia',\n",
       " 'openai',\n",
       " 'qualcomm')"
      ]
     },
     "execution_count": 31,
     "metadata": {},
     "output_type": "execute_result"
    }
   ],
   "source": [
    "# Also, convert the above \"AI_companies\" list to a tuple.\n",
    "ai_companies = tuple(companies)\n",
    "ai_companies"
   ]
  },
  {
   "cell_type": "code",
   "execution_count": 33,
   "metadata": {},
   "outputs": [
    {
     "name": "stdout",
     "output_type": "stream",
     "text": [
      "True\n"
     ]
    }
   ],
   "source": [
    " # Compare the length of two tuples.\n",
    "\n",
    "print(len(prices) < len(ai_companies))"
   ]
  }
 ],
 "metadata": {
  "kernelspec": {
   "display_name": "Python 3",
   "language": "python",
   "name": "python3"
  },
  "language_info": {
   "codemirror_mode": {
    "name": "ipython",
    "version": 3
   },
   "file_extension": ".py",
   "mimetype": "text/x-python",
   "name": "python",
   "nbconvert_exporter": "python",
   "pygments_lexer": "ipython3",
   "version": "3.7.3"
  }
 },
 "nbformat": 4,
 "nbformat_minor": 4
}
